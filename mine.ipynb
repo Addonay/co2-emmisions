{
 "cells": [
  {
   "cell_type": "code",
   "execution_count": null,
   "id": "da25f178",
   "metadata": {
    "title": "Imports"
   },
   "outputs": [],
   "source": [
    "import polars as pl\n",
    "import polars.selectors as cs\n",
    "import matplotlib.pyplot as plt\n",
    "import seaborn as sns"
   ]
  },
  {
   "cell_type": "code",
   "execution_count": null,
   "id": "fbbb6801",
   "metadata": {
    "title": "Set configurations"
   },
   "outputs": [],
   "source": [
    "pl.Config.set_tbl_rows(-1)\n",
    "pl.Config.set_tbl_cols(9)\n",
    "\n",
    "sns.set_theme(style=\"whitegrid\")\n",
    "plt.figure(figsize=(10, 8))"
   ]
  },
  {
   "cell_type": "code",
   "execution_count": null,
   "id": "fe8a0e41",
   "metadata": {
    "title": "Load data"
   },
   "outputs": [],
   "source": [
    "\n",
    "df = pl.read_csv(\n",
    "    \"dataset.csv\",\n",
    "    null_values=[\"\", \" \", \"NA\", \"N/A\", \"nan\", \"NaN\", \"null\", \"Null\"],\n",
    ")\n",
    "df.head()"
   ]
  },
  {
   "cell_type": "code",
   "execution_count": null,
   "id": "f4268da6",
   "metadata": {
    "title": "Data exploration"
   },
   "outputs": [],
   "source": [
    "df.describe()"
   ]
  },
  {
   "cell_type": "code",
   "execution_count": null,
   "id": "bfdb7b77",
   "metadata": {
    "title": "Checking for null values"
   },
   "outputs": [],
   "source": [
    "pl.DataFrame(\n",
    "    {\n",
    "        \"column\": df.columns,\n",
    "        \"null_count\": df.null_count().row(0),\n",
    "        \"total_rows\": df.height,\n",
    "    }\n",
    ").with_columns(\n",
    "    [\n",
    "        (pl.col(\"null_count\") / pl.col(\"total_rows\") * 100)\n",
    "        .round(2)\n",
    "        .alias(\"perc %\")\n",
    "    ]\n",
    ").filter(pl.col(\"null_count\") > 0).sort(\n",
    "    \"null_count\", descending=True\n",
    ")"
   ]
  },
  {
   "cell_type": "code",
   "execution_count": null,
   "id": "5d0b0a3b",
   "metadata": {
    "title": "Remove columns with more than 50% null values"
   },
   "outputs": [],
   "source": [
    "# df = df.drop(\"Fugitive Emissions (Mt)\")\n",
    "threshold = 0.5\n",
    "columns_to_drop = [\n",
    "    col for col, null_count in zip(df.columns, df.null_count().row(0))\n",
    "    if null_count / df.height > threshold\n",
    "]\n",
    "df = df.drop(columns_to_drop)\n",
    "df.columns\n",
    "print(f\"Columns to be dropped: {columns_to_drop}\")"
   ]
  },
  {
   "cell_type": "code",
   "execution_count": null,
   "id": "1cb6dd02",
   "metadata": {
    "title": "Fill null values with mean for numeric columns"
   },
   "outputs": [],
   "source": [
    "new = df.with_columns([\n",
    "   pl.col(col).fill_null(pl.col(col).mean()) for col in df.select(cs.numeric()).columns\n",
    "]).head()"
   ]
  },
  {
   "cell_type": "code",
   "execution_count": null,
   "id": "63864a18",
   "metadata": {
    "lines_to_next_cell": 2,
    "title": "Standardize the data"
   },
   "outputs": [],
   "source": [
    "numerical_cols = df.select(cs.numeric()).columns\n",
    "numerical_cols"
   ]
  }
 ],
 "metadata": {
  "jupytext": {
   "cell_metadata_filter": "title,-all",
   "main_language": "python",
   "notebook_metadata_filter": "-all"
  }
 },
 "nbformat": 4,
 "nbformat_minor": 5
}
